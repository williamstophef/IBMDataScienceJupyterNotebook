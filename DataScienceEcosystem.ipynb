{
 "cells": [
  {
   "cell_type": "markdown",
   "id": "4e9e0aa6",
   "metadata": {},
   "source": [
    "## Data Science Tools Ecosystem"
   ]
  },
  {
   "cell_type": "markdown",
   "id": "f3eccc94",
   "metadata": {},
   "source": [
    "### Introduction\n",
    "In this notebook, Data Science Tools and Ecosystem are summarized."
   ]
  },
  {
   "cell_type": "markdown",
   "id": "e478c53f",
   "metadata": {},
   "source": [
    "## Data Science Languages\n",
    "Some of the popular languages that Data Scientist use are:\n",
    "1. Python\n",
    "2. R\n",
    "3. SQL"
   ]
  },
  {
   "cell_type": "markdown",
   "id": "f70f3847",
   "metadata": {},
   "source": [
    "## Data Science Libraries\n",
    "Some of the commonly used libraries used by Data Scientist include:\n",
    "1. Pandas\n",
    "2. Numpy\n",
    "3. SciPy"
   ]
  },
  {
   "cell_type": "markdown",
   "id": "9f294da8",
   "metadata": {},
   "source": [
    "## Data Science Tools\n",
    "| Data Science Tool |\n",
    "| :- |\n",
    "| VS Code |\n",
    "| Jupyter Lab |\n",
    "| PyCharm |"
   ]
  },
  {
   "cell_type": "markdown",
   "id": "edf837f5",
   "metadata": {},
   "source": [
    "## Arithmetic Expression Examples\n",
    "Below are a few examples of evaluating arithmetic expressions in Python."
   ]
  },
  {
   "cell_type": "markdown",
   "id": "a08cb4eb",
   "metadata": {},
   "source": [
    "## Multiplication and Addition\n",
    "This is a simple arithmetic expression to multiply then add integers."
   ]
  },
  {
   "cell_type": "code",
   "execution_count": 4,
   "id": "5243015d",
   "metadata": {},
   "outputs": [
    {
     "data": {
      "text/plain": [
       "17"
      ]
     },
     "execution_count": 4,
     "metadata": {},
     "output_type": "execute_result"
    }
   ],
   "source": [
    "(3*4)+5"
   ]
  },
  {
   "cell_type": "markdown",
   "id": "0ccd241f",
   "metadata": {},
   "source": [
    "## Minutes to Hours\n",
    "This will convert 200 minutes to hours by dividing by 60."
   ]
  },
  {
   "cell_type": "code",
   "execution_count": 18,
   "id": "71f6b973",
   "metadata": {},
   "outputs": [],
   "source": [
    "total_minutes = 200\n",
    "#finds the remainder of the division and assigns it to minutes varaible\n",
    "minutes = total_minutes % 60\n",
    "hours = (200 - minutes) / 60"
   ]
  },
  {
   "cell_type": "code",
   "execution_count": 19,
   "id": "06cc6804",
   "metadata": {},
   "outputs": [
    {
     "name": "stdout",
     "output_type": "stream",
     "text": [
      "200 minutes equals 3 hours and 20 minutes\n"
     ]
    }
   ],
   "source": [
    "print(f\"200 minutes equals {int(hours)} hours and {minutes} minutes\")"
   ]
  },
  {
   "cell_type": "markdown",
   "id": "ed8e2b3d",
   "metadata": {},
   "source": [
    "## Objectives\n",
    "\n",
    "**Objectives**\n",
    "<ul>\n",
    "    <li>Data Science Languages</li>\n",
    "    <li>Data Science Tools</li>\n",
    "    <li>Data Science Libraries</li>\n",
    "</ul>"
   ]
  },
  {
   "cell_type": "markdown",
   "id": "e4aec1c3",
   "metadata": {},
   "source": [
    "## Author\n",
    "Christopher Williams\n"
   ]
  },
  {
   "cell_type": "code",
   "execution_count": null,
   "id": "d3163f45",
   "metadata": {},
   "outputs": [],
   "source": []
  }
 ],
 "metadata": {
  "kernelspec": {
   "display_name": "Python 3 (ipykernel)",
   "language": "python",
   "name": "python3"
  },
  "language_info": {
   "codemirror_mode": {
    "name": "ipython",
    "version": 3
   },
   "file_extension": ".py",
   "mimetype": "text/x-python",
   "name": "python",
   "nbconvert_exporter": "python",
   "pygments_lexer": "ipython3",
   "version": "3.10.11"
  }
 },
 "nbformat": 4,
 "nbformat_minor": 5
}
